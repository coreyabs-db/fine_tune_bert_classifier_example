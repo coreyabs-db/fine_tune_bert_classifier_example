{
 "cells": [
  {
   "cell_type": "markdown",
   "metadata": {
    "application/vnd.databricks.v1+cell": {
     "cellMetadata": {},
     "inputWidgets": {},
     "nuid": "4181b863-d556-40b8-a1a2-8fe9d689d07a",
     "showTitle": false,
     "tableResultSettingsMap": {},
     "title": ""
    }
   },
   "source": [
    "# Prepare data\n",
    "\n",
    "This task writes the training data to a parquet folder in Volumes\n",
    "so the version of Ray that ships with 16.4 ML can access it natively.\n",
    "\n",
    "There are a variety of other data reading and writing mechanisms supported."
   ]
  },
  {
   "cell_type": "code",
   "execution_count": 0,
   "metadata": {
    "application/vnd.databricks.v1+cell": {
     "cellMetadata": {
      "byteLimit": 2048000,
      "rowLimit": 10000
     },
     "inputWidgets": {},
     "nuid": "ba4b1606-4180-47d1-9e39-7f1c868b0502",
     "showTitle": true,
     "tableResultSettingsMap": {},
     "title": "Imports and setup"
    }
   },
   "outputs": [],
   "source": [
    "import os\n",
    "\n",
    "from pyspark.sql import functions as F\n",
    "from pyspark.sql import types as T\n",
    "from pyspark.sql import DataFrame"
   ]
  },
  {
   "cell_type": "code",
   "execution_count": 0,
   "metadata": {
    "application/vnd.databricks.v1+cell": {
     "cellMetadata": {
      "byteLimit": 2048000,
      "rowLimit": 10000
     },
     "inputWidgets": {},
     "nuid": "d436d241-bcf7-4c80-b05a-571f7a2fbb34",
     "showTitle": true,
     "tableResultSettingsMap": {},
     "title": "Task parameters"
    }
   },
   "outputs": [],
   "source": [
    "dbutils.widgets.text(\"catalog_name\", \"\")\n",
    "dbutils.widgets.text(\"schema_name\", \"\")\n",
    "dbutils.widgets.text(\"data_dir\", \"\")\n",
    "\n",
    "catalog_name = dbutils.widgets.get(\"catalog_name\")\n",
    "schema_name = dbutils.widgets.get(\"schema_name\")\n",
    "data_dir = dbutils.widgets.get(\"data_dir\")\n",
    "\n",
    "assert catalog_name, \"catalog_name is required\"\n",
    "assert schema_name, \"schema_name is required\"\n",
    "assert data_dir, \"data_dir is required\"\n",
    "\n",
    "spark.sql(f\"USE CATALOG {catalog_name}\")\n",
    "spark.sql(f\"USE SCHEMA {schema_name}\")\n",
    "\n",
    "source_table_name = \"yelp_reviews_silver\"\n",
    "splits = [\"train\", \"test\"]\n",
    "\n",
    "print(f\"catalog_name: {catalog_name}\")\n",
    "print(f\"schema_name: {schema_name}\")\n",
    "print(f\"data_dir: {data_dir}\")\n",
    "print(f\"source_table_name: {source_table_name}\")\n",
    "print(f\"splits: {splits}\")"
   ]
  },
  {
   "cell_type": "code",
   "execution_count": 0,
   "metadata": {
    "application/vnd.databricks.v1+cell": {
     "cellMetadata": {
      "byteLimit": 2048000,
      "rowLimit": 10000
     },
     "inputWidgets": {},
     "nuid": "deeecb6a-5313-4c03-b5c0-883d03ea1f96",
     "showTitle": true,
     "tableResultSettingsMap": {},
     "title": "Helper functions"
    }
   },
   "outputs": [],
   "source": [
    "def write_parquet(df: DataFrame, split: str, data_dir: str) -> None:\n",
    "    filename = os.path.join(data_dir, f\"{split}.parquet\")\n",
    "    split_df = df.filter(F.col(\"split\") == split).select(\"input_ids\", \"label\")\n",
    "    split_df.write.format(\"parquet\").mode(\"overwrite\").save(filename)\n",
    "\n",
    "def read_parquet(data_dir: str, split: str) -> DataFrame:\n",
    "    filename = os.path.join(data_dir, f\"{split}.parquet\")\n",
    "    return spark.read.format(\"parquet\").load(filename)"
   ]
  },
  {
   "cell_type": "code",
   "execution_count": 0,
   "metadata": {
    "application/vnd.databricks.v1+cell": {
     "cellMetadata": {
      "byteLimit": 2048000,
      "rowLimit": 10000
     },
     "inputWidgets": {},
     "nuid": "0e2033ae-f777-45aa-995d-3fb89a577c55",
     "showTitle": true,
     "tableResultSettingsMap": {},
     "title": "Perform the write"
    }
   },
   "outputs": [],
   "source": [
    "df = spark.table(source_table_name)\n",
    "\n",
    "for split in splits:\n",
    "    write_parquet(df, split, data_dir)"
   ]
  },
  {
   "cell_type": "code",
   "execution_count": 0,
   "metadata": {
    "application/vnd.databricks.v1+cell": {
     "cellMetadata": {
      "byteLimit": 2048000,
      "rowLimit": 10000
     },
     "inputWidgets": {},
     "nuid": "5d6da0fe-97e4-4359-bcf0-457a5fa2f705",
     "showTitle": true,
     "tableResultSettingsMap": {},
     "title": "Inspect the results"
    }
   },
   "outputs": [],
   "source": [
    "for split in splits:\n",
    "    print(f\"split: {split}\")\n",
    "    display(read_parquet(data_dir, split).limit(10))"
   ]
  }
 ],
 "metadata": {
  "application/vnd.databricks.v1+notebook": {
   "computePreferences": null,
   "dashboards": [],
   "environmentMetadata": {
    "base_environment": "dbe_41a50460-c90b-4840-9288-afcb847395d5",
    "environment_version": "2"
   },
   "inputWidgetPreferences": null,
   "language": "python",
   "notebookMetadata": {
    "pythonIndentUnit": 4
   },
   "notebookName": "prepare_data",
   "widgets": {
    "catalog_name": {
     "currentValue": "users",
     "nuid": "d94ade50-2a0e-49cb-bc81-9db064c73889",
     "typedWidgetInfo": {
      "autoCreated": false,
      "defaultValue": "",
      "label": null,
      "name": "catalog_name",
      "options": {
       "widgetDisplayType": "Text",
       "validationRegex": null
      },
      "parameterDataType": "String"
     },
     "widgetInfo": {
      "widgetType": "text",
      "defaultValue": "",
      "label": null,
      "name": "catalog_name",
      "options": {
       "widgetType": "text",
       "autoCreated": null,
       "validationRegex": null
      }
     }
    },
    "data_dir": {
     "currentValue": "/Volumes/users/corey_abshire/fine_tune_bert_classifier_example/yelp_reviews",
     "nuid": "2f249816-f7e9-41e7-9722-768221bd2701",
     "typedWidgetInfo": {
      "autoCreated": false,
      "defaultValue": "",
      "label": null,
      "name": "data_dir",
      "options": {
       "widgetDisplayType": "Text",
       "validationRegex": null
      },
      "parameterDataType": "String"
     },
     "widgetInfo": {
      "widgetType": "text",
      "defaultValue": "",
      "label": null,
      "name": "data_dir",
      "options": {
       "widgetType": "text",
       "autoCreated": null,
       "validationRegex": null
      }
     }
    },
    "schema_name": {
     "currentValue": "corey_abshire",
     "nuid": "d8cff1bd-95d6-4b56-b137-49c977a220ba",
     "typedWidgetInfo": {
      "autoCreated": false,
      "defaultValue": "",
      "label": null,
      "name": "schema_name",
      "options": {
       "widgetDisplayType": "Text",
       "validationRegex": null
      },
      "parameterDataType": "String"
     },
     "widgetInfo": {
      "widgetType": "text",
      "defaultValue": "",
      "label": null,
      "name": "schema_name",
      "options": {
       "widgetType": "text",
       "autoCreated": null,
       "validationRegex": null
      }
     }
    }
   }
  },
  "language_info": {
   "name": "python"
  }
 },
 "nbformat": 4,
 "nbformat_minor": 0
}
