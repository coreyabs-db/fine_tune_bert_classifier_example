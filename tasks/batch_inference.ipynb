{
 "cells": [
  {
   "cell_type": "markdown",
   "metadata": {
    "application/vnd.databricks.v1+cell": {
     "cellMetadata": {
      "byteLimit": 2048000,
      "rowLimit": 10000
     },
     "inputWidgets": {},
     "nuid": "dc690eed-f0e2-456f-bbf3-a1db6cb4059c",
     "showTitle": false,
     "tableResultSettingsMap": {},
     "title": ""
    }
   },
   "source": [
    "# Batch inference\n",
    "\n",
    "Apply the model to all the documents.\n",
    "\n",
    "Demonstrate batch inference of the model over a large set of documents\n",
    "by simply applying it to the same set we've been working with. Of course,\n",
    "in a production setting this would be on a different set of documents\n",
    "streaming in from some source."
   ]
  },
  {
   "cell_type": "code",
   "execution_count": 0,
   "metadata": {
    "application/vnd.databricks.v1+cell": {
     "cellMetadata": {
      "byteLimit": 2048000,
      "rowLimit": 10000
     },
     "inputWidgets": {},
     "nuid": "b6a41492-f19a-4ec5-a2e5-2a4980c46053",
     "showTitle": true,
     "tableResultSettingsMap": {},
     "title": "Imports and setup"
    }
   },
   "outputs": [],
   "source": [
    "import mlflow\n",
    "import mlflow.transformers\n",
    "\n",
    "import pandas as pd"
   ]
  },
  {
   "cell_type": "code",
   "execution_count": 0,
   "metadata": {
    "application/vnd.databricks.v1+cell": {
     "cellMetadata": {
      "byteLimit": 2048000,
      "rowLimit": 10000
     },
     "inputWidgets": {},
     "nuid": "08d0d6ae-c073-448d-b9dd-95a802d26d56",
     "showTitle": true,
     "tableResultSettingsMap": {},
     "title": "Task parameters"
    }
   },
   "outputs": [],
   "source": [
    "dbutils.widgets.text(\"catalog_name\", \"\")\n",
    "dbutils.widgets.text(\"schema_name\", \"\")\n",
    "dbutils.widgets.text(\"model_name\", \"\")\n",
    "dbutils.widgets.text(\"model_alias\", \"\")\n",
    "\n",
    "catalog_name = dbutils.widgets.get(\"catalog_name\")\n",
    "schema_name = dbutils.widgets.get(\"schema_name\")\n",
    "model_name = dbutils.widgets.get(\"model_name\")\n",
    "model_alias = dbutils.widgets.get(\"model_alias\")\n",
    "\n",
    "assert catalog_name != \"\", \"catalog_name is required\"\n",
    "assert schema_name != \"\", \"schema_name is required\"\n",
    "assert model_name != \"\", \"model_name is required\"\n",
    "assert model_alias != \"\", \"model_alias is required\"\n",
    "\n",
    "spark.sql(f\"USE CATALOG {catalog_name}\")\n",
    "spark.sql(f\"USE SCHEMA {schema_name}\")\n",
    "\n",
    "full_model_name = f\"{catalog_name}.{schema_name}.{model_name}\"\n",
    "model_uri = f\"models:/{full_model_name}@champion\"\n",
    "\n",
    "source_table_name = \"yelp_reviews_silver\"\n",
    "target_table_name = \"yelp_reviews_model_output\"\n",
    "\n",
    "print(f\"catalog_name: {catalog_name}\")\n",
    "print(f\"schema_name: {schema_name}\")\n",
    "print(f\"model_name: {model_name}\")\n",
    "print(f\"model_alias: {model_alias}\")\n",
    "print(f\"model_uri: {model_uri}\")\n",
    "\n",
    "print(f\"source_table_name: {source_table_name}\")\n",
    "print(f\"target_table_name: {target_table_name}\")"
   ]
  },
  {
   "cell_type": "code",
   "execution_count": 0,
   "metadata": {
    "application/vnd.databricks.v1+cell": {
     "cellMetadata": {
      "byteLimit": 2048000,
      "rowLimit": 10000
     },
     "inputWidgets": {},
     "nuid": "b7935433-bc06-438d-b07c-169c13331b66",
     "showTitle": true,
     "tableResultSettingsMap": {},
     "title": "Define a spark UDF for the model"
    }
   },
   "outputs": [],
   "source": [
    "classify_review = mlflow.pyfunc.spark_udf(\n",
    "    spark=spark, \n",
    "    model_uri=model_uri,\n",
    "    result_type=\"label string, score double\"\n",
    ")"
   ]
  },
  {
   "cell_type": "code",
   "execution_count": 0,
   "metadata": {
    "application/vnd.databricks.v1+cell": {
     "cellMetadata": {
      "byteLimit": 2048000,
      "rowLimit": 10000
     },
     "inputWidgets": {},
     "nuid": "3f584cbc-e376-47ad-a2e8-1dac5c4f05ec",
     "showTitle": true,
     "tableResultSettingsMap": {},
     "title": "Score the model and write the results"
    }
   },
   "outputs": [],
   "source": [
    "(\n",
    "    spark.table(source_table_name)\n",
    "    .repartition(40) # fan out to help distribute inference load\n",
    "    .withColumn(\"prediction\", classify_review(\"text\"))\n",
    "    .repartition(8) # fan in for writing fewer files\n",
    "    .write.mode(\"overwrite\")\n",
    "    .saveAsTable(target_table_name)\n",
    ")"
   ]
  },
  {
   "cell_type": "code",
   "execution_count": 0,
   "metadata": {
    "application/vnd.databricks.v1+cell": {
     "cellMetadata": {
      "byteLimit": 2048000,
      "rowLimit": 10000
     },
     "inputWidgets": {},
     "nuid": "ae2aa576-3489-455c-a560-488eab3b9a12",
     "showTitle": true,
     "tableResultSettingsMap": {
      "0": {
       "dataGridStateBlob": "{\"version\":1,\"tableState\":{\"columnPinning\":{\"left\":[\"#row_number#\"],\"right\":[]},\"columnSizing\":{},\"columnVisibility\":{\"input_ids\":false,\"full_token_count\":false,\"truncated_token_count\":false,\"split\":false}},\"settings\":{\"columns\":{}},\"syncTimestamp\":1753945600574}",
       "filterBlob": null,
       "queryPlanFiltersBlob": null,
       "tableResultIndex": 0
      }
     },
     "title": "Inspect the results"
    }
   },
   "outputs": [],
   "source": [
    "display(spark.table(target_table_name))"
   ]
  }
 ],
 "metadata": {
  "application/vnd.databricks.v1+notebook": {
   "computePreferences": null,
   "dashboards": [],
   "environmentMetadata": {
    "base_environment": "dbe_f14fbde8-5353-4144-89be-f0a3e93fffc9",
    "environment_version": "3"
   },
   "inputWidgetPreferences": null,
   "language": "python",
   "notebookMetadata": {
    "pythonIndentUnit": 4
   },
   "notebookName": "batch_inference",
   "widgets": {
    "catalog_name": {
     "currentValue": "users",
     "nuid": "2460df78-c8eb-4e2c-8a24-591022e69ca9",
     "typedWidgetInfo": {
      "autoCreated": false,
      "defaultValue": "",
      "label": null,
      "name": "catalog_name",
      "options": {
       "widgetDisplayType": "Text",
       "validationRegex": null
      },
      "parameterDataType": "String"
     },
     "widgetInfo": {
      "widgetType": "text",
      "defaultValue": "",
      "label": null,
      "name": "catalog_name",
      "options": {
       "widgetType": "text",
       "autoCreated": null,
       "validationRegex": null
      }
     }
    },
    "model_alias": {
     "currentValue": "champion",
     "nuid": "5d9e38de-cb50-4d00-9677-0946f27dd1ff",
     "typedWidgetInfo": {
      "autoCreated": false,
      "defaultValue": "",
      "label": null,
      "name": "model_alias",
      "options": {
       "widgetDisplayType": "Text",
       "validationRegex": null
      },
      "parameterDataType": "String"
     },
     "widgetInfo": {
      "widgetType": "text",
      "defaultValue": "",
      "label": null,
      "name": "model_alias",
      "options": {
       "widgetType": "text",
       "autoCreated": null,
       "validationRegex": null
      }
     }
    },
    "model_name": {
     "currentValue": "dev_corey_abshire_yelp_review_classifier",
     "nuid": "9f9c2133-f409-49cc-95ee-0560a8d01285",
     "typedWidgetInfo": {
      "autoCreated": false,
      "defaultValue": "",
      "label": null,
      "name": "model_name",
      "options": {
       "widgetDisplayType": "Text",
       "validationRegex": null
      },
      "parameterDataType": "String"
     },
     "widgetInfo": {
      "widgetType": "text",
      "defaultValue": "",
      "label": null,
      "name": "model_name",
      "options": {
       "widgetType": "text",
       "autoCreated": null,
       "validationRegex": null
      }
     }
    },
    "schema_name": {
     "currentValue": "corey_abshire",
     "nuid": "a70dd98c-2ec7-42ce-b147-6535e3cd23e1",
     "typedWidgetInfo": {
      "autoCreated": false,
      "defaultValue": "",
      "label": null,
      "name": "schema_name",
      "options": {
       "widgetDisplayType": "Text",
       "validationRegex": null
      },
      "parameterDataType": "String"
     },
     "widgetInfo": {
      "widgetType": "text",
      "defaultValue": "",
      "label": null,
      "name": "schema_name",
      "options": {
       "widgetType": "text",
       "autoCreated": null,
       "validationRegex": null
      }
     }
    }
   }
  },
  "language_info": {
   "name": "python"
  }
 },
 "nbformat": 4,
 "nbformat_minor": 0
}
